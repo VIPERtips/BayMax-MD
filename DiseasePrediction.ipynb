{
  "nbformat": 4,
  "nbformat_minor": 0,
  "metadata": {
    "colab": {
      "provenance": [],
      "authorship_tag": "ABX9TyNhHFMsvwqMkO0amAZ8+1sK",
      "include_colab_link": true
    },
    "kernelspec": {
      "name": "python3",
      "display_name": "Python 3"
    },
    "language_info": {
      "name": "python"
    }
  },
  "cells": [
    {
      "cell_type": "markdown",
      "metadata": {
        "id": "view-in-github",
        "colab_type": "text"
      },
      "source": [
        "<a href=\"https://colab.research.google.com/github/VIPERtips/BayMax-MD/blob/main/DiseasePrediction.ipynb\" target=\"_parent\"><img src=\"https://colab.research.google.com/assets/colab-badge.svg\" alt=\"Open In Colab\"/></a>"
      ]
    },
    {
      "cell_type": "code",
      "execution_count": 1,
      "metadata": {
        "colab": {
          "base_uri": "https://localhost:8080/"
        },
        "id": "2JUiJkwvoLip",
        "outputId": "cec7b4fd-d2cc-43de-c1a8-64d372c266de"
      },
      "outputs": [
        {
          "output_type": "stream",
          "name": "stdout",
          "text": [
            "Generating dataset...\n",
            "Dataset generated!\n"
          ]
        },
        {
          "output_type": "stream",
          "name": "stderr",
          "text": [
            "/usr/local/lib/python3.11/dist-packages/torchvision/models/_utils.py:208: UserWarning: The parameter 'pretrained' is deprecated since 0.13 and may be removed in the future, please use 'weights' instead.\n",
            "  warnings.warn(\n",
            "/usr/local/lib/python3.11/dist-packages/torchvision/models/_utils.py:223: UserWarning: Arguments other than a weight enum or `None` for 'weights' are deprecated since 0.13 and may be removed in the future. The current behavior is equivalent to passing `weights=None`.\n",
            "  warnings.warn(msg)\n"
          ]
        },
        {
          "output_type": "stream",
          "name": "stdout",
          "text": [
            "Epoch 1/5 - Loss: 0.1783\n",
            "Epoch 2/5 - Loss: 0.1153\n",
            "Epoch 3/5 - Loss: 0.1901\n",
            "Epoch 4/5 - Loss: 0.1065\n",
            "Epoch 5/5 - Loss: 0.1601\n",
            "Test Image: dataset/rust/rust_189.png\n",
            "Predicted: rust with confidence 0.99\n"
          ]
        }
      ],
      "source": [
        "import os\n",
        "import random\n",
        "import numpy as np\n",
        "from PIL import Image, ImageDraw\n",
        "import torch\n",
        "import torch.nn as nn\n",
        "import torch.optim as optim\n",
        "from torch.utils.data import Dataset, DataLoader\n",
        "from torchvision import transforms\n",
        "from torchvision.models import resnet18\n",
        "from sklearn.model_selection import train_test_split\n",
        "\n",
        "# 1. Create dataset folders\n",
        "os.makedirs(\"dataset/healthy\", exist_ok=True)\n",
        "for disease in [\"rust\", \"blight\", \"powdery_mildew\", \"leaf_spot\"]:\n",
        "    os.makedirs(f\"dataset/{disease}\", exist_ok=True)\n",
        "\n",
        "# 2. Generate synthetic images (64x64)\n",
        "def generate_healthy_leaf_image(size=(64,64)):\n",
        "    base = np.random.normal(loc=120, scale=10, size=(size[0], size[1], 3))\n",
        "    base[:, :, 1] += 50  # greener tint\n",
        "    base = np.clip(base, 0, 255).astype(np.uint8)\n",
        "    return Image.fromarray(base)\n",
        "\n",
        "def generate_diseased_leaf_image(size=(64,64), disease=\"rust\"):\n",
        "    img = generate_healthy_leaf_image(size)\n",
        "    draw = ImageDraw.Draw(img)\n",
        "    num_spots = random.randint(5, 15)\n",
        "    for _ in range(num_spots):\n",
        "        x = random.randint(5, size[0]-10)\n",
        "        y = random.randint(5, size[1]-10)\n",
        "        r = random.randint(3, 7)\n",
        "        color_map = {\n",
        "            \"rust\": (180, 90, 0),\n",
        "            \"blight\": (50, 30, 30),\n",
        "            \"powdery_mildew\": (230, 230, 230),\n",
        "            \"leaf_spot\": (0, 0, 0),\n",
        "        }\n",
        "        color = color_map.get(disease, (0,0,0))\n",
        "        draw.ellipse((x-r, y-r, x+r, y+r), fill=color)\n",
        "    return img\n",
        "\n",
        "# 3. Generate and save dataset\n",
        "num_samples_per_class = 250\n",
        "classes = [\"healthy\", \"rust\", \"blight\", \"powdery_mildew\", \"leaf_spot\"]\n",
        "\n",
        "print(\"Generating dataset...\")\n",
        "\n",
        "for cls in classes:\n",
        "    for i in range(num_samples_per_class):\n",
        "        if cls == \"healthy\":\n",
        "            img = generate_healthy_leaf_image()\n",
        "        else:\n",
        "            img = generate_diseased_leaf_image(disease=cls)\n",
        "        img.save(f\"dataset/{cls}/{cls}_{i}.png\")\n",
        "\n",
        "print(\"Dataset generated!\")\n",
        "\n",
        "# 4. Dataset Loader class\n",
        "class LeafDiseaseDataset(Dataset):\n",
        "    def __init__(self, image_paths, labels, transform=None):\n",
        "        self.image_paths = image_paths\n",
        "        self.labels = labels\n",
        "        self.transform = transform\n",
        "\n",
        "    def __len__(self):\n",
        "        return len(self.image_paths)\n",
        "\n",
        "    def __getitem__(self, idx):\n",
        "        img = Image.open(self.image_paths[idx]).convert(\"RGB\")\n",
        "        label = self.labels[idx]\n",
        "        if self.transform:\n",
        "            img = self.transform(img)\n",
        "        return img, label\n",
        "\n",
        "# 5. Prepare file paths and labels\n",
        "all_image_paths = []\n",
        "all_labels = []\n",
        "\n",
        "label_map = {cls:i for i, cls in enumerate(classes)}\n",
        "\n",
        "for cls in classes:\n",
        "    files = os.listdir(f\"dataset/{cls}\")\n",
        "    for f in files:\n",
        "        all_image_paths.append(f\"dataset/{cls}/{f}\")\n",
        "        all_labels.append(label_map[cls])\n",
        "\n",
        "# 6. Train-test split\n",
        "train_paths, val_paths, train_labels, val_labels = train_test_split(\n",
        "    all_image_paths, all_labels, test_size=0.2, stratify=all_labels, random_state=42\n",
        ")\n",
        "\n",
        "# 7. Transforms\n",
        "transform = transforms.Compose([\n",
        "    transforms.Resize((64,64)),\n",
        "    transforms.ToTensor(),\n",
        "])\n",
        "\n",
        "# 8. Datasets and loaders\n",
        "train_dataset = LeafDiseaseDataset(train_paths, train_labels, transform=transform)\n",
        "val_dataset = LeafDiseaseDataset(val_paths, val_labels, transform=transform)\n",
        "\n",
        "train_loader = DataLoader(train_dataset, batch_size=32, shuffle=True)\n",
        "val_loader = DataLoader(val_dataset, batch_size=32)\n",
        "\n",
        "# 9. Model - Use pretrained ResNet18 (small, good baseline)\n",
        "model = resnet18(pretrained=False)\n",
        "model.fc = nn.Linear(model.fc.in_features, len(classes))\n",
        "\n",
        "device = torch.device(\"cuda\" if torch.cuda.is_available() else \"cpu\")\n",
        "model = model.to(device)\n",
        "\n",
        "# 10. Loss and optimizer\n",
        "criterion = nn.CrossEntropyLoss()\n",
        "optimizer = optim.Adam(model.parameters(), lr=0.001)\n",
        "\n",
        "# 11. Training loop\n",
        "epochs = 5\n",
        "\n",
        "for epoch in range(epochs):\n",
        "    model.train()\n",
        "    total_loss = 0\n",
        "    for imgs, labels in train_loader:\n",
        "        imgs, labels = imgs.to(device), labels.to(device)\n",
        "        optimizer.zero_grad()\n",
        "        outputs = model(imgs)\n",
        "        loss = criterion(outputs, labels)\n",
        "        loss.backward()\n",
        "        optimizer.step()\n",
        "        total_loss += loss.item()\n",
        "    print(f\"Epoch {epoch+1}/{epochs} - Loss: {total_loss/len(train_loader):.4f}\")\n",
        "\n",
        "# 12. Validation & test inference function\n",
        "def predict_image(img_path):\n",
        "    model.eval()\n",
        "    img = Image.open(img_path).convert(\"RGB\")\n",
        "    img_t = transform(img).unsqueeze(0).to(device)\n",
        "    with torch.no_grad():\n",
        "        output = model(img_t)\n",
        "        probs = torch.softmax(output, dim=1)\n",
        "        conf, pred = torch.max(probs, 1)\n",
        "        return classes[pred.item()], conf.item()\n",
        "\n",
        "# 13. Test a random image\n",
        "test_img = val_paths[0]\n",
        "pred_class, confidence = predict_image(test_img)\n",
        "print(f\"Test Image: {test_img}\\nPredicted: {pred_class} with confidence {confidence:.2f}\")\n"
      ]
    },
    {
      "cell_type": "code",
      "source": [
        "import torch\n",
        "\n",
        "torch.save(model.state_dict(), \"leaf_disease_model.pkl\")\n",
        "print(\"Model saved as leaf_disease_model.pkl\")\n"
      ],
      "metadata": {
        "colab": {
          "base_uri": "https://localhost:8080/"
        },
        "id": "R39CfBbSoOdQ",
        "outputId": "1ea7dddb-d5da-4f83-f6c3-7b1524242dc5"
      },
      "execution_count": 2,
      "outputs": [
        {
          "output_type": "stream",
          "name": "stdout",
          "text": [
            "Model saved as leaf_disease_model.pkl\n"
          ]
        }
      ]
    },
    {
      "cell_type": "code",
      "source": [
        "from google.colab import files\n",
        "files.download(\"leaf_disease_model.pkl\")\n"
      ],
      "metadata": {
        "colab": {
          "base_uri": "https://localhost:8080/",
          "height": 34
        },
        "id": "K919EBnUqC-M",
        "outputId": "a4631544-87f0-4909-a8ab-8af37bb407cf"
      },
      "execution_count": 4,
      "outputs": [
        {
          "output_type": "display_data",
          "data": {
            "text/plain": [
              "<IPython.core.display.Javascript object>"
            ],
            "application/javascript": [
              "\n",
              "    async function download(id, filename, size) {\n",
              "      if (!google.colab.kernel.accessAllowed) {\n",
              "        return;\n",
              "      }\n",
              "      const div = document.createElement('div');\n",
              "      const label = document.createElement('label');\n",
              "      label.textContent = `Downloading \"${filename}\": `;\n",
              "      div.appendChild(label);\n",
              "      const progress = document.createElement('progress');\n",
              "      progress.max = size;\n",
              "      div.appendChild(progress);\n",
              "      document.body.appendChild(div);\n",
              "\n",
              "      const buffers = [];\n",
              "      let downloaded = 0;\n",
              "\n",
              "      const channel = await google.colab.kernel.comms.open(id);\n",
              "      // Send a message to notify the kernel that we're ready.\n",
              "      channel.send({})\n",
              "\n",
              "      for await (const message of channel.messages) {\n",
              "        // Send a message to notify the kernel that we're ready.\n",
              "        channel.send({})\n",
              "        if (message.buffers) {\n",
              "          for (const buffer of message.buffers) {\n",
              "            buffers.push(buffer);\n",
              "            downloaded += buffer.byteLength;\n",
              "            progress.value = downloaded;\n",
              "          }\n",
              "        }\n",
              "      }\n",
              "      const blob = new Blob(buffers, {type: 'application/binary'});\n",
              "      const a = document.createElement('a');\n",
              "      a.href = window.URL.createObjectURL(blob);\n",
              "      a.download = filename;\n",
              "      div.appendChild(a);\n",
              "      a.click();\n",
              "      div.remove();\n",
              "    }\n",
              "  "
            ]
          },
          "metadata": {}
        },
        {
          "output_type": "display_data",
          "data": {
            "text/plain": [
              "<IPython.core.display.Javascript object>"
            ],
            "application/javascript": [
              "download(\"download_ea3a49cd-ca13-402f-8f79-2462e65b9c2d\", \"leaf_disease_model.pkl\", 44794792)"
            ]
          },
          "metadata": {}
        }
      ]
    },
    {
      "cell_type": "code",
      "source": [],
      "metadata": {
        "id": "_Ajg4BOWqIEK"
      },
      "execution_count": null,
      "outputs": []
    }
  ]
}